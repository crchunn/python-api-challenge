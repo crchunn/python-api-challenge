{
 "cells": [
  {
   "cell_type": "markdown",
   "metadata": {},
   "source": [
    "# VacationPy\n",
    "----\n",
    "\n",
    "#### Note\n",
    "* Instructions have been included for each segment. You do not have to follow them exactly, but they are included to help you think through the steps."
   ]
  },
  {
   "cell_type": "code",
   "execution_count": 2,
   "metadata": {},
   "outputs": [],
   "source": [
    "# Dependencies and Setup\n",
    "import matplotlib.pyplot as plt\n",
    "import pandas as pd\n",
    "import numpy as np\n",
    "import requests\n",
    "import gmaps\n",
    "import os\n",
    "\n",
    "# Import API key\n",
    "from api_keys import g_key"
   ]
  },
  {
   "cell_type": "markdown",
   "metadata": {},
   "source": [
    "### Store Part I results into DataFrame\n",
    "* Load the csv exported in Part I to a DataFrame"
   ]
  },
  {
   "cell_type": "code",
   "execution_count": 19,
   "metadata": {},
   "outputs": [
    {
     "data": {
      "text/html": [
       "<div>\n",
       "<style scoped>\n",
       "    .dataframe tbody tr th:only-of-type {\n",
       "        vertical-align: middle;\n",
       "    }\n",
       "\n",
       "    .dataframe tbody tr th {\n",
       "        vertical-align: top;\n",
       "    }\n",
       "\n",
       "    .dataframe thead th {\n",
       "        text-align: right;\n",
       "    }\n",
       "</style>\n",
       "<table border=\"1\" class=\"dataframe\">\n",
       "  <thead>\n",
       "    <tr style=\"text-align: right;\">\n",
       "      <th></th>\n",
       "      <th>City</th>\n",
       "      <th>Lat</th>\n",
       "      <th>Lng</th>\n",
       "      <th>Max Temp</th>\n",
       "      <th>Humidity</th>\n",
       "      <th>Cloudiness</th>\n",
       "      <th>Wind Speed</th>\n",
       "      <th>Country</th>\n",
       "      <th>Date</th>\n",
       "    </tr>\n",
       "  </thead>\n",
       "  <tbody>\n",
       "    <tr>\n",
       "      <th>0</th>\n",
       "      <td>butajira</td>\n",
       "      <td>8.12</td>\n",
       "      <td>38.37</td>\n",
       "      <td>14.89</td>\n",
       "      <td>76</td>\n",
       "      <td>46</td>\n",
       "      <td>1.41</td>\n",
       "      <td>ET</td>\n",
       "      <td>1592607160</td>\n",
       "    </tr>\n",
       "    <tr>\n",
       "      <th>1</th>\n",
       "      <td>hilo</td>\n",
       "      <td>19.73</td>\n",
       "      <td>-155.09</td>\n",
       "      <td>27.00</td>\n",
       "      <td>61</td>\n",
       "      <td>90</td>\n",
       "      <td>2.10</td>\n",
       "      <td>US</td>\n",
       "      <td>1592607160</td>\n",
       "    </tr>\n",
       "    <tr>\n",
       "      <th>2</th>\n",
       "      <td>barrow</td>\n",
       "      <td>71.29</td>\n",
       "      <td>-156.79</td>\n",
       "      <td>2.00</td>\n",
       "      <td>85</td>\n",
       "      <td>90</td>\n",
       "      <td>2.60</td>\n",
       "      <td>US</td>\n",
       "      <td>1592607161</td>\n",
       "    </tr>\n",
       "    <tr>\n",
       "      <th>3</th>\n",
       "      <td>nikolskoye</td>\n",
       "      <td>59.70</td>\n",
       "      <td>30.79</td>\n",
       "      <td>19.00</td>\n",
       "      <td>72</td>\n",
       "      <td>24</td>\n",
       "      <td>5.00</td>\n",
       "      <td>RU</td>\n",
       "      <td>1592607161</td>\n",
       "    </tr>\n",
       "    <tr>\n",
       "      <th>4</th>\n",
       "      <td>rio verde de mato grosso</td>\n",
       "      <td>-18.92</td>\n",
       "      <td>-54.84</td>\n",
       "      <td>23.17</td>\n",
       "      <td>62</td>\n",
       "      <td>6</td>\n",
       "      <td>2.19</td>\n",
       "      <td>BR</td>\n",
       "      <td>1592607123</td>\n",
       "    </tr>\n",
       "  </tbody>\n",
       "</table>\n",
       "</div>"
      ],
      "text/plain": [
       "                       City    Lat     Lng  Max Temp  Humidity  Cloudiness  \\\n",
       "0                  butajira   8.12   38.37     14.89        76          46   \n",
       "1                      hilo  19.73 -155.09     27.00        61          90   \n",
       "2                    barrow  71.29 -156.79      2.00        85          90   \n",
       "3                nikolskoye  59.70   30.79     19.00        72          24   \n",
       "4  rio verde de mato grosso -18.92  -54.84     23.17        62           6   \n",
       "\n",
       "   Wind Speed Country        Date  \n",
       "0        1.41      ET  1592607160  \n",
       "1        2.10      US  1592607160  \n",
       "2        2.60      US  1592607161  \n",
       "3        5.00      RU  1592607161  \n",
       "4        2.19      BR  1592607123  "
      ]
     },
     "execution_count": 19,
     "metadata": {},
     "output_type": "execute_result"
    }
   ],
   "source": [
    "csv_path = \"../output_data/Weather_Data.csv\"\n",
    "wd_df = pd.read_csv(csv_path)\n",
    "\n",
    "\n",
    "wd_df = wd_df.drop(wd_df.columns[[0]], axis=1)\n",
    "wd_df.head()"
   ]
  },
  {
   "cell_type": "markdown",
   "metadata": {},
   "source": [
    "### Humidity Heatmap\n",
    "* Configure gmaps.\n",
    "* Use the Lat and Lng as locations and Humidity as the weight.\n",
    "* Add Heatmap layer to map."
   ]
  },
  {
   "cell_type": "code",
   "execution_count": 20,
   "metadata": {},
   "outputs": [],
   "source": [
    "locations = wd_df[[\"Lat\", \"Lng\"]]\n",
    "humidity = wd_df[\"Humidity\"].astype(float)"
   ]
  },
  {
   "cell_type": "code",
   "execution_count": 22,
   "metadata": {},
   "outputs": [
    {
     "data": {
      "application/vnd.jupyter.widget-view+json": {
       "model_id": "5396970e0d1a46bfac23681d777505ab",
       "version_major": 2,
       "version_minor": 0
      },
      "text/plain": [
       "Figure(layout=FigureLayout(height='420px'))"
      ]
     },
     "metadata": {},
     "output_type": "display_data"
    }
   ],
   "source": [
    "# Plot Heatmap\n",
    "fig = gmaps.figure()\n",
    "\n",
    "# Create heat layer\n",
    "heat_layer = gmaps.heatmap_layer(locations, weights=humidity, \n",
    "                                 dissipating=False, max_intensity=10,\n",
    "                                 point_radius=1)\n",
    "\n",
    "\n",
    "# Add layer\n",
    "fig.add_layer(heat_layer)\n",
    "\n",
    "# Display figure\n",
    "fig\n",
    "#plt.savefig('../output_data/heatmap.png')"
   ]
  },
  {
   "cell_type": "code",
   "execution_count": null,
   "metadata": {},
   "outputs": [],
   "source": []
  },
  {
   "cell_type": "markdown",
   "metadata": {},
   "source": [
    "### Create new DataFrame fitting weather criteria\n",
    "* Narrow down the cities to fit weather conditions.\n",
    "* Drop any rows will null values."
   ]
  },
  {
   "cell_type": "code",
   "execution_count": 27,
   "metadata": {},
   "outputs": [
    {
     "data": {
      "text/html": [
       "<div>\n",
       "<style scoped>\n",
       "    .dataframe tbody tr th:only-of-type {\n",
       "        vertical-align: middle;\n",
       "    }\n",
       "\n",
       "    .dataframe tbody tr th {\n",
       "        vertical-align: top;\n",
       "    }\n",
       "\n",
       "    .dataframe thead th {\n",
       "        text-align: right;\n",
       "    }\n",
       "</style>\n",
       "<table border=\"1\" class=\"dataframe\">\n",
       "  <thead>\n",
       "    <tr style=\"text-align: right;\">\n",
       "      <th></th>\n",
       "      <th>City</th>\n",
       "      <th>Lat</th>\n",
       "      <th>Lng</th>\n",
       "      <th>Max Temp</th>\n",
       "      <th>Humidity</th>\n",
       "      <th>Cloudiness</th>\n",
       "      <th>Wind Speed</th>\n",
       "      <th>Country</th>\n",
       "      <th>Date</th>\n",
       "    </tr>\n",
       "  </thead>\n",
       "  <tbody>\n",
       "    <tr>\n",
       "      <th>0</th>\n",
       "      <td>butajira</td>\n",
       "      <td>8.12</td>\n",
       "      <td>38.37</td>\n",
       "      <td>14.89</td>\n",
       "      <td>76</td>\n",
       "      <td>46</td>\n",
       "      <td>1.41</td>\n",
       "      <td>ET</td>\n",
       "      <td>1592607160</td>\n",
       "    </tr>\n",
       "    <tr>\n",
       "      <th>1</th>\n",
       "      <td>hilo</td>\n",
       "      <td>19.73</td>\n",
       "      <td>-155.09</td>\n",
       "      <td>27.00</td>\n",
       "      <td>61</td>\n",
       "      <td>90</td>\n",
       "      <td>2.10</td>\n",
       "      <td>US</td>\n",
       "      <td>1592607160</td>\n",
       "    </tr>\n",
       "    <tr>\n",
       "      <th>2</th>\n",
       "      <td>barrow</td>\n",
       "      <td>71.29</td>\n",
       "      <td>-156.79</td>\n",
       "      <td>2.00</td>\n",
       "      <td>85</td>\n",
       "      <td>90</td>\n",
       "      <td>2.60</td>\n",
       "      <td>US</td>\n",
       "      <td>1592607161</td>\n",
       "    </tr>\n",
       "    <tr>\n",
       "      <th>3</th>\n",
       "      <td>nikolskoye</td>\n",
       "      <td>59.70</td>\n",
       "      <td>30.79</td>\n",
       "      <td>19.00</td>\n",
       "      <td>72</td>\n",
       "      <td>24</td>\n",
       "      <td>5.00</td>\n",
       "      <td>RU</td>\n",
       "      <td>1592607161</td>\n",
       "    </tr>\n",
       "    <tr>\n",
       "      <th>4</th>\n",
       "      <td>rio verde de mato grosso</td>\n",
       "      <td>-18.92</td>\n",
       "      <td>-54.84</td>\n",
       "      <td>23.17</td>\n",
       "      <td>62</td>\n",
       "      <td>6</td>\n",
       "      <td>2.19</td>\n",
       "      <td>BR</td>\n",
       "      <td>1592607123</td>\n",
       "    </tr>\n",
       "  </tbody>\n",
       "</table>\n",
       "</div>"
      ],
      "text/plain": [
       "                       City    Lat     Lng  Max Temp  Humidity  Cloudiness  \\\n",
       "0                  butajira   8.12   38.37     14.89        76          46   \n",
       "1                      hilo  19.73 -155.09     27.00        61          90   \n",
       "2                    barrow  71.29 -156.79      2.00        85          90   \n",
       "3                nikolskoye  59.70   30.79     19.00        72          24   \n",
       "4  rio verde de mato grosso -18.92  -54.84     23.17        62           6   \n",
       "\n",
       "   Wind Speed Country        Date  \n",
       "0        1.41      ET  1592607160  \n",
       "1        2.10      US  1592607160  \n",
       "2        2.60      US  1592607161  \n",
       "3        5.00      RU  1592607161  \n",
       "4        2.19      BR  1592607123  "
      ]
     },
     "execution_count": 27,
     "metadata": {},
     "output_type": "execute_result"
    }
   ],
   "source": [
    "#A max temperature lower than 80 degrees but higher than 60.\n",
    "clean_df = wd_df.loc[wd_df['Max Temp'] < 80]\n",
    "clean_df.head()\n",
    "# clean_df = clean_df.loc[clean_df['Max Temp'] > 60]\n",
    "# clean_df.head()\n",
    "# #Fahrenheit = (Celsius * 9/5) + 32\n",
    "\n",
    "# #Wind speed less than 20 mph.\n",
    "# clean_df = clean_df.loc[clean_df['Wind Speed'] > 2]\n",
    "# #clean_df.head()\n",
    "\n",
    "# #20% or less cloudiness.\n",
    "# clean_df = clean_df.loc[clean_df['Cloudiness'] >= 20]\n",
    "# hotel_df = clean_df.dropna(inplace = True)\n",
    "# #hotel_df.head()"
   ]
  },
  {
   "cell_type": "markdown",
   "metadata": {},
   "source": [
    "### Hotel Map\n",
    "* Store into variable named `hotel_df`.\n",
    "* Add a \"Hotel Name\" column to the DataFrame.\n",
    "* Set parameters to search for hotels with 5000 meters.\n",
    "* Hit the Google Places API for each city's coordinates.\n",
    "* Store the first Hotel result into the DataFrame.\n",
    "* Plot markers on top of the heatmap."
   ]
  },
  {
   "cell_type": "code",
   "execution_count": null,
   "metadata": {},
   "outputs": [],
   "source": [
    "hotel_df = \n",
    "hotel_df1['Hotel Name'] = pd.Series(np.random.randn(sLength), index=df1.index)"
   ]
  },
  {
   "cell_type": "code",
   "execution_count": null,
   "metadata": {},
   "outputs": [],
   "source": []
  },
  {
   "cell_type": "code",
   "execution_count": null,
   "metadata": {},
   "outputs": [],
   "source": [
    "# NOTE: Do not change any of the code in this cell\n",
    "\n",
    "# Using the template add the hotel marks to the heatmap\n",
    "info_box_template = \"\"\"\n",
    "<dl>\n",
    "<dt>Name</dt><dd>{Hotel Name}</dd>\n",
    "<dt>City</dt><dd>{City}</dd>\n",
    "<dt>Country</dt><dd>{Country}</dd>\n",
    "</dl>\n",
    "\"\"\"\n",
    "# Store the DataFrame Row\n",
    "# NOTE: be sure to update with your DataFrame name\n",
    "hotel_info = [info_box_template.format(**row) for index, row in hotel_df.iterrows()]\n",
    "locations = hotel_df[[\"Lat\", \"Lng\"]]"
   ]
  },
  {
   "cell_type": "code",
   "execution_count": null,
   "metadata": {},
   "outputs": [],
   "source": [
    "# Add marker layer ontop of heat map\n",
    "\n",
    "\n",
    "# Display figure\n"
   ]
  },
  {
   "cell_type": "code",
   "execution_count": null,
   "metadata": {},
   "outputs": [],
   "source": []
  }
 ],
 "metadata": {
  "kernelspec": {
   "display_name": "Python 3.6.10 64-bit ('PythonData': conda)",
   "language": "python",
   "name": "python361064bitpythondataconda52ae8f35831243f592e38c83e49650b8"
  },
  "language_info": {
   "codemirror_mode": {
    "name": "ipython",
    "version": 3
   },
   "file_extension": ".py",
   "mimetype": "text/x-python",
   "name": "python",
   "nbconvert_exporter": "python",
   "pygments_lexer": "ipython3",
   "version": "3.6.10"
  },
  "latex_envs": {
   "LaTeX_envs_menu_present": true,
   "autoclose": false,
   "autocomplete": true,
   "bibliofile": "biblio.bib",
   "cite_by": "apalike",
   "current_citInitial": 1,
   "eqLabelWithNumbers": true,
   "eqNumInitial": 1,
   "hotkeys": {
    "equation": "Ctrl-E",
    "itemize": "Ctrl-I"
   },
   "labels_anchors": false,
   "latex_user_defs": false,
   "report_style_numbering": false,
   "user_envs_cfg": false
  }
 },
 "nbformat": 4,
 "nbformat_minor": 2
}
